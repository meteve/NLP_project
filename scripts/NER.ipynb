{
 "cells": [
  {
   "cell_type": "code",
   "execution_count": 1,
   "metadata": {},
   "outputs": [],
   "source": [
    "import pandas as pd\n",
    "import numpy as np\n",
    "\n",
    "# NER\n",
    "import spacy\n",
    "import fr_core_news_md"
   ]
  },
  {
   "cell_type": "markdown",
   "metadata": {},
   "source": [
    "### Import data"
   ]
  },
  {
   "cell_type": "code",
   "execution_count": 22,
   "metadata": {},
   "outputs": [],
   "source": [
    "# import with features\n",
    "df = pd.read_csv(\"../data/corpus_train_features.csv\", index_col=0)\n",
    "df_test = pd.read_csv(\"../data/corpus_test.csv\", sep='|')"
   ]
  },
  {
   "cell_type": "code",
   "execution_count": 3,
   "metadata": {},
   "outputs": [
    {
     "data": {
      "text/html": [
       "<div>\n",
       "<style scoped>\n",
       "    .dataframe tbody tr th:only-of-type {\n",
       "        vertical-align: middle;\n",
       "    }\n",
       "\n",
       "    .dataframe tbody tr th {\n",
       "        vertical-align: top;\n",
       "    }\n",
       "\n",
       "    .dataframe thead th {\n",
       "        text-align: right;\n",
       "    }\n",
       "</style>\n",
       "<table border=\"1\" class=\"dataframe\">\n",
       "  <thead>\n",
       "    <tr style=\"text-align: right;\">\n",
       "      <th></th>\n",
       "      <th>paragraph</th>\n",
       "      <th>author</th>\n",
       "      <th>len_paragraph</th>\n",
       "      <th>nb_tokens</th>\n",
       "      <th>nb_sentences</th>\n",
       "      <th>nb_tokens_per_sentences</th>\n",
       "      <th>nb_words</th>\n",
       "      <th>nb_unique_words</th>\n",
       "      <th>nb_punct</th>\n",
       "      <th>nb_punct_relative</th>\n",
       "    </tr>\n",
       "  </thead>\n",
       "  <tbody>\n",
       "    <tr>\n",
       "      <td>0</td>\n",
       "      <td>Beaucoup de gens ont envié la douce existence ...</td>\n",
       "      <td>Balzac</td>\n",
       "      <td>1027</td>\n",
       "      <td>192</td>\n",
       "      <td>5</td>\n",
       "      <td>37.400000</td>\n",
       "      <td>172</td>\n",
       "      <td>123</td>\n",
       "      <td>20</td>\n",
       "      <td>0.104167</td>\n",
       "    </tr>\n",
       "    <tr>\n",
       "      <td>1</td>\n",
       "      <td>Un mercredi, de grand matin, vers le milieu du...</td>\n",
       "      <td>Balzac</td>\n",
       "      <td>425</td>\n",
       "      <td>85</td>\n",
       "      <td>2</td>\n",
       "      <td>41.500000</td>\n",
       "      <td>73</td>\n",
       "      <td>63</td>\n",
       "      <td>12</td>\n",
       "      <td>0.141176</td>\n",
       "    </tr>\n",
       "    <tr>\n",
       "      <td>2</td>\n",
       "      <td>--Ah! c'est toi, Suzanne? dit le chevalier de ...</td>\n",
       "      <td>Balzac</td>\n",
       "      <td>211</td>\n",
       "      <td>41</td>\n",
       "      <td>4</td>\n",
       "      <td>9.250000</td>\n",
       "      <td>35</td>\n",
       "      <td>33</td>\n",
       "      <td>6</td>\n",
       "      <td>0.146341</td>\n",
       "    </tr>\n",
       "    <tr>\n",
       "      <td>3</td>\n",
       "      <td>Cette charmante Suzanne, dont la comique avent...</td>\n",
       "      <td>Balzac</td>\n",
       "      <td>5557</td>\n",
       "      <td>1015</td>\n",
       "      <td>33</td>\n",
       "      <td>29.757576</td>\n",
       "      <td>887</td>\n",
       "      <td>439</td>\n",
       "      <td>128</td>\n",
       "      <td>0.126108</td>\n",
       "    </tr>\n",
       "    <tr>\n",
       "      <td>4</td>\n",
       "      <td>Suzanne, une de ses favorites, spirituelle, am...</td>\n",
       "      <td>Balzac</td>\n",
       "      <td>563</td>\n",
       "      <td>107</td>\n",
       "      <td>2</td>\n",
       "      <td>52.500000</td>\n",
       "      <td>91</td>\n",
       "      <td>77</td>\n",
       "      <td>16</td>\n",
       "      <td>0.149533</td>\n",
       "    </tr>\n",
       "  </tbody>\n",
       "</table>\n",
       "</div>"
      ],
      "text/plain": [
       "                                           paragraph  author  len_paragraph  \\\n",
       "0  Beaucoup de gens ont envié la douce existence ...  Balzac           1027   \n",
       "1  Un mercredi, de grand matin, vers le milieu du...  Balzac            425   \n",
       "2  --Ah! c'est toi, Suzanne? dit le chevalier de ...  Balzac            211   \n",
       "3  Cette charmante Suzanne, dont la comique avent...  Balzac           5557   \n",
       "4  Suzanne, une de ses favorites, spirituelle, am...  Balzac            563   \n",
       "\n",
       "   nb_tokens  nb_sentences  nb_tokens_per_sentences  nb_words  \\\n",
       "0        192             5                37.400000       172   \n",
       "1         85             2                41.500000        73   \n",
       "2         41             4                 9.250000        35   \n",
       "3       1015            33                29.757576       887   \n",
       "4        107             2                52.500000        91   \n",
       "\n",
       "   nb_unique_words  nb_punct  nb_punct_relative  \n",
       "0              123        20           0.104167  \n",
       "1               63        12           0.141176  \n",
       "2               33         6           0.146341  \n",
       "3              439       128           0.126108  \n",
       "4               77        16           0.149533  "
      ]
     },
     "execution_count": 3,
     "metadata": {},
     "output_type": "execute_result"
    }
   ],
   "source": [
    "df.head()"
   ]
  },
  {
   "cell_type": "code",
   "execution_count": 4,
   "metadata": {},
   "outputs": [
    {
     "data": {
      "text/plain": [
       "(47202, 10)"
      ]
     },
     "execution_count": 4,
     "metadata": {},
     "output_type": "execute_result"
    }
   ],
   "source": [
    "df.shape"
   ]
  },
  {
   "cell_type": "markdown",
   "metadata": {},
   "source": [
    "### Named entities recognition"
   ]
  },
  {
   "cell_type": "code",
   "execution_count": 5,
   "metadata": {},
   "outputs": [],
   "source": [
    "nlp = fr_core_news_md.load()"
   ]
  },
  {
   "cell_type": "code",
   "execution_count": 6,
   "metadata": {},
   "outputs": [
    {
     "name": "stdout",
     "output_type": "stream",
     "text": [
      "Margot 0 6 PER\n",
      "Paris 16 21 LOC\n",
      "Victor Hugo 0 11 PER\n",
      "Honoré de Balzac 15 31 PER\n"
     ]
    }
   ],
   "source": [
    "doc = nlp(\"Margot habite à Paris, capitale de la France, où il pleut tout le temps\")\n",
    "\n",
    "for ent in doc.ents:\n",
    "    print(ent.text, ent.start_char, ent.end_char, ent.label_)\n",
    "    \n",
    "    \n",
    "doc = nlp(\"Victor Hugo et Honoré de Balzac sont des grands écrivains du 19ème siècle\")\n",
    "\n",
    "for ent in doc.ents:\n",
    "    print(ent.text, ent.start_char, ent.end_char, ent.label_)"
   ]
  },
  {
   "cell_type": "markdown",
   "metadata": {},
   "source": [
    "#### Fonction that remove the named entities from a paragraph."
   ]
  },
  {
   "cell_type": "code",
   "execution_count": 14,
   "metadata": {},
   "outputs": [],
   "source": [
    "def remove_named_entities(paragraph):\n",
    "    #nlp = fr_core_news_md.load()\n",
    "    doc = nlp(paragraph)\n",
    "    \n",
    "    names = []\n",
    "    for ent in doc.ents:\n",
    "        # list of all the named entities recognized in the paragraph\n",
    "        names.append(ent)\n",
    "    # keep unique elements and convert to string    \n",
    "    names = set([str(x) for x in names])\n",
    "    \n",
    "    # remove named entities from the paragraph\n",
    "    paragraph_no_names = paragraph\n",
    "    for name in names:\n",
    "        paragraph_no_names = paragraph_no_names.replace(name, '')\n",
    "        \n",
    "    return paragraph_no_names"
   ]
  },
  {
   "cell_type": "code",
   "execution_count": 15,
   "metadata": {},
   "outputs": [],
   "source": [
    "par_test = df['paragraph'][0]"
   ]
  },
  {
   "cell_type": "code",
   "execution_count": 16,
   "metadata": {},
   "outputs": [
    {
     "data": {
      "text/plain": [
       "\"Beaucoup de gens ont envié la douce existence de ce vieux garçon, pleine de parties de boston, de trictrac, de reversi, de whist et de piquet bien jouées, de dîners bien digérés, de prises de tabac humées avec grâce, de tranquilles promenades. Presque tout Alençon croyait cette vie exempte d'ambition et d'intérêts graves; mais aucun homme n'a une vie aussi simple que ses envieux la lui font. Vous découvrirez dans les villages les plus oubliés des mollusques humains, des rotifères en apparence morts, qui ont la passion des lépidoptères ou de la conchyliologie, et qui se donnent des maux infinis pour je ne sais quels papillons ou pour la _concha Veneris_. Non-seulement le chevalier avait ses coquillages, mais encore il nourrissait un ambitieux désir poursuivi avec une profondeur digne de Sixte-Quint: il voulait se marier avec une vieille fille riche, sans doute dans l'intention de s'en faire un marchepied pour aborder les sphères élevées de la cour. Là était le secret de sa royale tenue et de son séjour à Alençon.\""
      ]
     },
     "execution_count": 16,
     "metadata": {},
     "output_type": "execute_result"
    }
   ],
   "source": [
    "par_test"
   ]
  },
  {
   "cell_type": "code",
   "execution_count": 17,
   "metadata": {},
   "outputs": [
    {
     "name": "stdout",
     "output_type": "stream",
     "text": [
      "Alençon 257 264 LOC\n",
      "Veneris_. 652 661 LOC\n",
      "Sixte 797 802 PER\n",
      "Quint 803 808 PER\n",
      "Alençon 1019 1026 LOC\n"
     ]
    }
   ],
   "source": [
    "doc_test = nlp(par_test)\n",
    "\n",
    "for ent in doc_test.ents:\n",
    "    print(ent.text, ent.start_char, ent.end_char, ent.label_)"
   ]
  },
  {
   "cell_type": "code",
   "execution_count": 18,
   "metadata": {},
   "outputs": [
    {
     "data": {
      "text/plain": [
       "\"Beaucoup de gens ont envié la douce existence de ce vieux garçon, pleine de parties de boston, de trictrac, de reversi, de whist et de piquet bien jouées, de dîners bien digérés, de prises de tabac humées avec grâce, de tranquilles promenades. Presque tout  croyait cette vie exempte d'ambition et d'intérêts graves; mais aucun homme n'a une vie aussi simple que ses envieux la lui font. Vous découvrirez dans les villages les plus oubliés des mollusques humains, des rotifères en apparence morts, qui ont la passion des lépidoptères ou de la conchyliologie, et qui se donnent des maux infinis pour je ne sais quels papillons ou pour la _concha  Non-seulement le chevalier avait ses coquillages, mais encore il nourrissait un ambitieux désir poursuivi avec une profondeur digne de -: il voulait se marier avec une vieille fille riche, sans doute dans l'intention de s'en faire un marchepied pour aborder les sphères élevées de la cour. Là était le secret de sa royale tenue et de son séjour à .\""
      ]
     },
     "execution_count": 18,
     "metadata": {},
     "output_type": "execute_result"
    }
   ],
   "source": [
    "remove_named_entities(par_test)"
   ]
  },
  {
   "cell_type": "markdown",
   "metadata": {},
   "source": [
    "#### Create new column with the paragraphs without the named entities."
   ]
  },
  {
   "cell_type": "markdown",
   "metadata": {},
   "source": [
    "Apply this to train and test sets."
   ]
  },
  {
   "cell_type": "code",
   "execution_count": 19,
   "metadata": {
    "scrolled": true
   },
   "outputs": [
    {
     "name": "stdout",
     "output_type": "stream",
     "text": [
      "0\n",
      "1000\n",
      "2000\n",
      "3000\n",
      "4000\n",
      "5000\n",
      "6000\n",
      "7000\n",
      "8000\n",
      "9000\n",
      "10000\n",
      "11000\n",
      "12000\n",
      "13000\n",
      "14000\n",
      "15000\n",
      "16000\n",
      "17000\n",
      "18000\n",
      "19000\n",
      "20000\n",
      "21000\n",
      "22000\n",
      "23000\n",
      "24000\n",
      "25000\n",
      "26000\n",
      "27000\n",
      "28000\n",
      "29000\n",
      "30000\n",
      "31000\n",
      "32000\n",
      "33000\n",
      "34000\n",
      "35000\n",
      "36000\n",
      "37000\n",
      "38000\n",
      "39000\n",
      "40000\n",
      "41000\n",
      "42000\n",
      "43000\n",
      "44000\n",
      "45000\n",
      "46000\n",
      "47000\n"
     ]
    }
   ],
   "source": [
    "paragraph_ner = []\n",
    "for i, par in enumerate(df['paragraph']):\n",
    "    par_ner = remove_named_entities(par)\n",
    "    paragraph_ner.append(par_ner)\n",
    "    if i%1000 == 0:\n",
    "        print(i)\n",
    "\n",
    "df['paragraph_ner'] = paragraph_ner"
   ]
  },
  {
   "cell_type": "code",
   "execution_count": 23,
   "metadata": {},
   "outputs": [
    {
     "name": "stdout",
     "output_type": "stream",
     "text": [
      "0\n",
      "1000\n",
      "2000\n",
      "3000\n",
      "4000\n",
      "5000\n",
      "6000\n",
      "7000\n",
      "8000\n",
      "9000\n",
      "10000\n",
      "11000\n",
      "12000\n",
      "13000\n",
      "14000\n",
      "15000\n",
      "16000\n",
      "17000\n"
     ]
    }
   ],
   "source": [
    "paragraph_test_ner = []\n",
    "for i, par in enumerate(df_test['paragraph']):\n",
    "    par_ner = remove_named_entities(par)\n",
    "    paragraph_test_ner.append(par_ner)\n",
    "    if i%1000 == 0:\n",
    "        print(i)\n",
    "\n",
    "df_test['paragraph_ner'] = paragraph_test_ner"
   ]
  },
  {
   "cell_type": "markdown",
   "metadata": {},
   "source": [
    "#### Export new train file with all the features"
   ]
  },
  {
   "cell_type": "code",
   "execution_count": 20,
   "metadata": {},
   "outputs": [],
   "source": [
    "# save complete train dataframe to csv\n",
    "df.to_csv('../data/corpus_train_features_NER.csv')"
   ]
  },
  {
   "cell_type": "code",
   "execution_count": 24,
   "metadata": {},
   "outputs": [],
   "source": [
    "# save complete test dataframe to csv\n",
    "df_test.to_csv('../data/corpus_test_NER.csv')"
   ]
  },
  {
   "cell_type": "markdown",
   "metadata": {},
   "source": [
    "#### Check problems with NER"
   ]
  },
  {
   "cell_type": "code",
   "execution_count": 40,
   "metadata": {},
   "outputs": [
    {
     "name": "stdout",
     "output_type": "stream",
     "text": [
      "Suzanne, une de ses favorites, spirituelle, ambitieuse, avait en elle l'étoffe d'une Sophie Arnould, elle était d'ailleurs belle comme la plus belle courtisane que jamais Titien ait conviée à poser sur un velours noir pour aider son pinceau à faire une Vénus; mais sa figure, quoique fine dans le tour des yeux et du front, péchait en bas par des contours communs. C'était la beauté normande, fraîche, éclatante, rebondie, la chair de Rubens qu'il faudrait marier avec les muscles de l'Hercule-Farnèse, et non la Vénus de Médicis, cette gracieuse femme d'Apollon.\n"
     ]
    },
    {
     "data": {
      "text/plain": [
       "\"Suzanne, une de ses favorites, spirituelle, ambitieuse, avait en elle l'étoffe d'une , elle était d'ailleurs belle comme la plus belle courtisane que jamais  ait conviée à poser sur un velours noir pour aider son pinceau à faire une ; mais sa figure, quoique fine dans le tour des yeux et du front, péchait en bas par des contours communs. C'était la beauté normande, fraîche, éclatante, rebondie, la chair de  qu'il faudrait marier avec les muscles de l'-, et non la  de , cette gracieuse femme d'.\""
      ]
     },
     "execution_count": 40,
     "metadata": {},
     "output_type": "execute_result"
    }
   ],
   "source": [
    "# voir pb pour ligne 4 \"Suzanne\" encore present apres NER?\n",
    "print(df['paragraph'][4])\n",
    "remove_named_entities(df['paragraph'][4])"
   ]
  },
  {
   "cell_type": "code",
   "execution_count": 29,
   "metadata": {
    "scrolled": true
   },
   "outputs": [
    {
     "name": "stdout",
     "output_type": "stream",
     "text": [
      "--Suzanne, que diable veux-tu que je fasse? il est si extraordinaire.... Moi qui croyais... Le fait est que... mais non, non, cela ne se peut pas...\n"
     ]
    },
    {
     "data": {
      "text/plain": [
       "'--Suzanne, que diable veux-tu que je fasse? il est si extraordinaire.... Moi qui croyais... Le fait est que... mais non, non, cela ne se peut pas...'"
      ]
     },
     "execution_count": 29,
     "metadata": {},
     "output_type": "execute_result"
    }
   ],
   "source": [
    "print(df['paragraph'][30])\n",
    "remove_named_entities(df['paragraph'][30])"
   ]
  },
  {
   "cell_type": "code",
   "execution_count": 42,
   "metadata": {},
   "outputs": [
    {
     "name": "stdout",
     "output_type": "stream",
     "text": [
      "Sophie Arnould 85 99 PER\n",
      "Titien 171 177 PER\n",
      "Vénus 253 258 LOC\n",
      "Rubens 435 441 PER\n",
      "Hercule 486 493 LOC\n",
      "Farnèse 494 501 PER\n",
      "Vénus 513 518 LOC\n",
      "Médicis 522 529 PER\n",
      "Apollon 555 562 PER\n"
     ]
    }
   ],
   "source": [
    "doc = nlp(df['paragraph'][4])\n",
    "\n",
    "for ent in doc.ents:\n",
    "    print(ent.text, ent.start_char, ent.end_char, ent.label_)"
   ]
  },
  {
   "cell_type": "code",
   "execution_count": 43,
   "metadata": {},
   "outputs": [],
   "source": [
    "doc = nlp(df['paragraph'][30])\n",
    "\n",
    "for ent in doc.ents:\n",
    "    print(ent.text, ent.start_char, ent.end_char, ent.label_)"
   ]
  }
 ],
 "metadata": {
  "kernelspec": {
   "display_name": "Python 3",
   "language": "python",
   "name": "python3"
  },
  "language_info": {
   "codemirror_mode": {
    "name": "ipython",
    "version": 3
   },
   "file_extension": ".py",
   "mimetype": "text/x-python",
   "name": "python",
   "nbconvert_exporter": "python",
   "pygments_lexer": "ipython3",
   "version": "3.7.4"
  }
 },
 "nbformat": 4,
 "nbformat_minor": 2
}
