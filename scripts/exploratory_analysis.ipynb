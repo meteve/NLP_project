{
 "cells": [
  {
   "cell_type": "code",
   "execution_count": 44,
   "metadata": {},
   "outputs": [],
   "source": [
    "import pandas as pd\n",
    "import numpy as np\n",
    "from collections import Counter\n",
    "import matplotlib.pyplot as plt\n",
    "from nltk import word_tokenize\n",
    "import re\n",
    "import string\n",
    "\n",
    "%matplotlib inline"
   ]
  },
  {
   "cell_type": "markdown",
   "metadata": {},
   "source": [
    "### Import data"
   ]
  },
  {
   "cell_type": "code",
   "execution_count": 2,
   "metadata": {},
   "outputs": [],
   "source": [
    "df = pd.read_csv(\"../data/corpus_train.csv\", sep=\"|\")"
   ]
  },
  {
   "cell_type": "code",
   "execution_count": 3,
   "metadata": {},
   "outputs": [
    {
     "data": {
      "text/html": [
       "<div>\n",
       "<style scoped>\n",
       "    .dataframe tbody tr th:only-of-type {\n",
       "        vertical-align: middle;\n",
       "    }\n",
       "\n",
       "    .dataframe tbody tr th {\n",
       "        vertical-align: top;\n",
       "    }\n",
       "\n",
       "    .dataframe thead th {\n",
       "        text-align: right;\n",
       "    }\n",
       "</style>\n",
       "<table border=\"1\" class=\"dataframe\">\n",
       "  <thead>\n",
       "    <tr style=\"text-align: right;\">\n",
       "      <th></th>\n",
       "      <th>paragraph</th>\n",
       "      <th>author</th>\n",
       "    </tr>\n",
       "  </thead>\n",
       "  <tbody>\n",
       "    <tr>\n",
       "      <td>0</td>\n",
       "      <td>Beaucoup de gens ont envié la douce existence ...</td>\n",
       "      <td>Balzac</td>\n",
       "    </tr>\n",
       "    <tr>\n",
       "      <td>1</td>\n",
       "      <td>Un mercredi, de grand matin, vers le milieu du...</td>\n",
       "      <td>Balzac</td>\n",
       "    </tr>\n",
       "    <tr>\n",
       "      <td>2</td>\n",
       "      <td>--Ah! c'est toi, Suzanne? dit le chevalier de ...</td>\n",
       "      <td>Balzac</td>\n",
       "    </tr>\n",
       "    <tr>\n",
       "      <td>3</td>\n",
       "      <td>Cette charmante Suzanne, dont la comique avent...</td>\n",
       "      <td>Balzac</td>\n",
       "    </tr>\n",
       "    <tr>\n",
       "      <td>4</td>\n",
       "      <td>Suzanne, une de ses favorites, spirituelle, am...</td>\n",
       "      <td>Balzac</td>\n",
       "    </tr>\n",
       "  </tbody>\n",
       "</table>\n",
       "</div>"
      ],
      "text/plain": [
       "                                           paragraph  author\n",
       "0  Beaucoup de gens ont envié la douce existence ...  Balzac\n",
       "1  Un mercredi, de grand matin, vers le milieu du...  Balzac\n",
       "2  --Ah! c'est toi, Suzanne? dit le chevalier de ...  Balzac\n",
       "3  Cette charmante Suzanne, dont la comique avent...  Balzac\n",
       "4  Suzanne, une de ses favorites, spirituelle, am...  Balzac"
      ]
     },
     "execution_count": 3,
     "metadata": {},
     "output_type": "execute_result"
    }
   ],
   "source": [
    "df.head()"
   ]
  },
  {
   "cell_type": "code",
   "execution_count": 4,
   "metadata": {},
   "outputs": [
    {
     "data": {
      "text/plain": [
       "(47202, 2)"
      ]
     },
     "execution_count": 4,
     "metadata": {},
     "output_type": "execute_result"
    }
   ],
   "source": [
    "df.shape"
   ]
  },
  {
   "cell_type": "markdown",
   "metadata": {},
   "source": [
    "### Distribution of the authors in the database"
   ]
  },
  {
   "cell_type": "code",
   "execution_count": 30,
   "metadata": {},
   "outputs": [
    {
     "data": {
      "text/plain": [
       "<BarContainer object of 10 artists>"
      ]
     },
     "execution_count": 30,
     "metadata": {},
     "output_type": "execute_result"
    },
    {
     "data": {
      "image/png": "[encoded data removed]",
      "text/plain": [
       "<Figure size 1008x432 with 1 Axes>"
      ]
     },
     "metadata": {
      "needs_background": "light"
     },
     "output_type": "display_data"
    }
   ],
   "source": [
    "count = Counter(df['author']).most_common()\n",
    "\n",
    "x = [t[0] for t in count]\n",
    "y = [t[1] for t in count]\n",
    "\n",
    "plt.figure(figsize=(14, 6))\n",
    "plt.bar(x=x, height=y)"
   ]
  },
  {
   "cell_type": "markdown",
   "metadata": {},
   "source": [
    "### Length of paragraphs"
   ]
  },
  {
   "cell_type": "markdown",
   "metadata": {},
   "source": [
    "Statistics on the length of paragraphs"
   ]
  },
  {
   "cell_type": "code",
   "execution_count": 31,
   "metadata": {},
   "outputs": [
    {
     "data": {
      "text/plain": [
       "count    47202.000000\n",
       "mean       366.902737\n",
       "std        469.902017\n",
       "min        101.000000\n",
       "25%        151.000000\n",
       "50%        232.000000\n",
       "75%        408.000000\n",
       "max      16283.000000\n",
       "Name: paragraph, dtype: float64"
      ]
     },
     "execution_count": 31,
     "metadata": {},
     "output_type": "execute_result"
    }
   ],
   "source": [
    "df['paragraph'].apply(len).describe()"
   ]
  },
  {
   "cell_type": "code",
   "execution_count": 32,
   "metadata": {},
   "outputs": [
    {
     "data": {
      "text/plain": [
       "<pandas.core.groupby.generic.DataFrameGroupBy object at 0x00000243F7F98548>"
      ]
     },
     "execution_count": 32,
     "metadata": {},
     "output_type": "execute_result"
    }
   ],
   "source": [
    "df.groupby('author')"
   ]
  },
  {
   "cell_type": "markdown",
   "metadata": {},
   "source": [
    "### New features\n",
    "- length of paragraph\n",
    "- number of tokens\n",
    "- number of sentences\n",
    "- average number of words per sentence\n",
    "- number of different words\n",
    "- number of punctuation tokens\n",
    "- relative number of punctuation tokens among all tokens"
   ]
  },
  {
   "cell_type": "code",
   "execution_count": 41,
   "metadata": {},
   "outputs": [
    {
     "name": "stderr",
     "output_type": "stream",
     "text": [
      "[nltk_data] Downloading package punkt to\n",
      "[nltk_data]     C:\\Users\\margo\\AppData\\Roaming\\nltk_data...\n",
      "[nltk_data]   Unzipping tokenizers\\punkt.zip.\n"
     ]
    },
    {
     "data": {
      "text/plain": [
       "True"
      ]
     },
     "execution_count": 41,
     "metadata": {},
     "output_type": "execute_result"
    }
   ],
   "source": [
    "import nltk\n",
    "nltk.download('punkt')"
   ]
  },
  {
   "cell_type": "code",
   "execution_count": 35,
   "metadata": {},
   "outputs": [],
   "source": [
    "par = df['paragraph'][0]"
   ]
  },
  {
   "cell_type": "code",
   "execution_count": 45,
   "metadata": {
    "scrolled": true
   },
   "outputs": [],
   "source": [
    "par_tokens = word_tokenize(par)"
   ]
  },
  {
   "cell_type": "code",
   "execution_count": 54,
   "metadata": {},
   "outputs": [
    {
     "data": {
      "text/plain": [
       "['Beaucoup',\n",
       " 'de',\n",
       " 'gens',\n",
       " 'ont',\n",
       " 'envié',\n",
       " 'la',\n",
       " 'douce',\n",
       " 'existence',\n",
       " 'de',\n",
       " 'ce',\n",
       " 'vieux',\n",
       " 'garçon',\n",
       " ',',\n",
       " 'pleine',\n",
       " 'de',\n",
       " 'parties',\n",
       " 'de',\n",
       " 'boston',\n",
       " ',',\n",
       " 'de',\n",
       " 'trictrac',\n",
       " ',',\n",
       " 'de',\n",
       " 'reversi',\n",
       " ',',\n",
       " 'de',\n",
       " 'whist',\n",
       " 'et',\n",
       " 'de',\n",
       " 'piquet',\n",
       " 'bien',\n",
       " 'jouées',\n",
       " ',',\n",
       " 'de',\n",
       " 'dîners',\n",
       " 'bien',\n",
       " 'digérés',\n",
       " ',',\n",
       " 'de',\n",
       " 'prises',\n",
       " 'de',\n",
       " 'tabac',\n",
       " 'humées',\n",
       " 'avec',\n",
       " 'grâce',\n",
       " ',',\n",
       " 'de',\n",
       " 'tranquilles',\n",
       " 'promenades',\n",
       " '.',\n",
       " 'Presque',\n",
       " 'tout',\n",
       " 'Alençon',\n",
       " 'croyait',\n",
       " 'cette',\n",
       " 'vie',\n",
       " 'exempte',\n",
       " \"d'ambition\",\n",
       " 'et',\n",
       " \"d'intérêts\",\n",
       " 'graves',\n",
       " ';',\n",
       " 'mais',\n",
       " 'aucun',\n",
       " 'homme',\n",
       " 'n',\n",
       " \"'\",\n",
       " 'a',\n",
       " 'une',\n",
       " 'vie',\n",
       " 'aussi',\n",
       " 'simple',\n",
       " 'que',\n",
       " 'ses',\n",
       " 'envieux',\n",
       " 'la',\n",
       " 'lui',\n",
       " 'font',\n",
       " '.',\n",
       " 'Vous',\n",
       " 'découvrirez',\n",
       " 'dans',\n",
       " 'les',\n",
       " 'villages',\n",
       " 'les',\n",
       " 'plus',\n",
       " 'oubliés',\n",
       " 'des',\n",
       " 'mollusques',\n",
       " 'humains',\n",
       " ',',\n",
       " 'des',\n",
       " 'rotifères',\n",
       " 'en',\n",
       " 'apparence',\n",
       " 'morts',\n",
       " ',',\n",
       " 'qui',\n",
       " 'ont',\n",
       " 'la',\n",
       " 'passion',\n",
       " 'des',\n",
       " 'lépidoptères',\n",
       " 'ou',\n",
       " 'de',\n",
       " 'la',\n",
       " 'conchyliologie',\n",
       " ',',\n",
       " 'et',\n",
       " 'qui',\n",
       " 'se',\n",
       " 'donnent',\n",
       " 'des',\n",
       " 'maux',\n",
       " 'infinis',\n",
       " 'pour',\n",
       " 'je',\n",
       " 'ne',\n",
       " 'sais',\n",
       " 'quels',\n",
       " 'papillons',\n",
       " 'ou',\n",
       " 'pour',\n",
       " 'la',\n",
       " '_concha',\n",
       " 'Veneris_',\n",
       " '.',\n",
       " 'Non-seulement',\n",
       " 'le',\n",
       " 'chevalier',\n",
       " 'avait',\n",
       " 'ses',\n",
       " 'coquillages',\n",
       " ',',\n",
       " 'mais',\n",
       " 'encore',\n",
       " 'il',\n",
       " 'nourrissait',\n",
       " 'un',\n",
       " 'ambitieux',\n",
       " 'désir',\n",
       " 'poursuivi',\n",
       " 'avec',\n",
       " 'une',\n",
       " 'profondeur',\n",
       " 'digne',\n",
       " 'de',\n",
       " 'Sixte-Quint',\n",
       " ':',\n",
       " 'il',\n",
       " 'voulait',\n",
       " 'se',\n",
       " 'marier',\n",
       " 'avec',\n",
       " 'une',\n",
       " 'vieille',\n",
       " 'fille',\n",
       " 'riche',\n",
       " ',',\n",
       " 'sans',\n",
       " 'doute',\n",
       " 'dans',\n",
       " \"l'intention\",\n",
       " 'de',\n",
       " \"s'en\",\n",
       " 'faire',\n",
       " 'un',\n",
       " 'marchepied',\n",
       " 'pour',\n",
       " 'aborder',\n",
       " 'les',\n",
       " 'sphères',\n",
       " 'élevées',\n",
       " 'de',\n",
       " 'la',\n",
       " 'cour',\n",
       " '.',\n",
       " 'Là',\n",
       " 'était',\n",
       " 'le',\n",
       " 'secret',\n",
       " 'de',\n",
       " 'sa',\n",
       " 'royale',\n",
       " 'tenue',\n",
       " 'et',\n",
       " 'de',\n",
       " 'son',\n",
       " 'séjour',\n",
       " 'à',\n",
       " 'Alençon',\n",
       " '.']"
      ]
     },
     "execution_count": 54,
     "metadata": {},
     "output_type": "execute_result"
    }
   ],
   "source": [
    "par_tokens"
   ]
  },
  {
   "cell_type": "code",
   "execution_count": 53,
   "metadata": {},
   "outputs": [
    {
     "data": {
      "text/plain": [
       "5"
      ]
     },
     "execution_count": 53,
     "metadata": {},
     "output_type": "execute_result"
    }
   ],
   "source": [
    "sum([[i for i in string.punctuation][x] in par_tokens for x in range(0, len(string.punctuation))])"
   ]
  },
  {
   "cell_type": "code",
   "execution_count": null,
   "metadata": {},
   "outputs": [],
   "source": [
    "#def get_length(paragraph):\n",
    " #   return len(paragraph)\n",
    "\n",
    "def get_features(paragraph):\n",
    "    tokens = word_tokenize(paragraph)\n",
    "    sentences = paragraph.split('.')\n",
    "    \n",
    "    len_paragraph = len(paragraph)\n",
    "    nb_tokens = len(tokens)\n",
    "    nb_sentences = len(sentences)\n",
    "    nb_punct = sum(i for i in tokens)"
   ]
  },
  {
   "cell_type": "code",
   "execution_count": null,
   "metadata": {},
   "outputs": [],
   "source": []
  },
  {
   "cell_type": "markdown",
   "metadata": {},
   "source": [
    "### Name entities recognition"
   ]
  },
  {
   "cell_type": "code",
   "execution_count": null,
   "metadata": {},
   "outputs": [],
   "source": []
  },
  {
   "cell_type": "code",
   "execution_count": null,
   "metadata": {},
   "outputs": [],
   "source": []
  },
  {
   "cell_type": "code",
   "execution_count": null,
   "metadata": {},
   "outputs": [],
   "source": []
  }
 ],
 "metadata": {
  "kernelspec": {
   "display_name": "Python 3",
   "language": "python",
   "name": "python3"
  },
  "language_info": {
   "codemirror_mode": {
    "name": "ipython",
    "version": 3
   },
   "file_extension": ".py",
   "mimetype": "text/x-python",
   "name": "python",
   "nbconvert_exporter": "python",
   "pygments_lexer": "ipython3",
   "version": "3.7.4"
  }
 },
 "nbformat": 4,
 "nbformat_minor": 2
}
