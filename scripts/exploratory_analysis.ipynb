{
 "cells": [
  {
   "cell_type": "code",
   "execution_count": 2,
   "metadata": {},
   "outputs": [
    {
     "name": "stderr",
     "output_type": "stream",
     "text": [
      "[nltk_data] Downloading package punkt to\n",
      "[nltk_data]     C:\\Users\\margo\\AppData\\Roaming\\nltk_data...\n",
      "[nltk_data]   Package punkt is already up-to-date!\n"
     ]
    }
   ],
   "source": [
    "import pandas as pd\n",
    "import numpy as np\n",
    "from collections import Counter\n",
    "import matplotlib.pyplot as plt\n",
    "from nltk import word_tokenize\n",
    "import re\n",
    "import string\n",
    "import nltk\n",
    "nltk.download('punkt')\n",
    "\n",
    "\n",
    "%matplotlib inline"
   ]
  },
  {
   "cell_type": "markdown",
   "metadata": {},
   "source": [
    "### Import data"
   ]
  },
  {
   "cell_type": "code",
   "execution_count": 5,
   "metadata": {},
   "outputs": [],
   "source": [
    "# import without new features\n",
    "#df = pd.read_csv(\"../data/corpus_train.csv\", sep=\"|\")\n",
    "\n",
    "# import with features\n",
    "df = pd.read_csv(\"../data/corpus_train_complete.csv\", index_col=0)"
   ]
  },
  {
   "cell_type": "code",
   "execution_count": 6,
   "metadata": {},
   "outputs": [
    {
     "data": {
      "text/html": [
       "<div>\n",
       "<style scoped>\n",
       "    .dataframe tbody tr th:only-of-type {\n",
       "        vertical-align: middle;\n",
       "    }\n",
       "\n",
       "    .dataframe tbody tr th {\n",
       "        vertical-align: top;\n",
       "    }\n",
       "\n",
       "    .dataframe thead th {\n",
       "        text-align: right;\n",
       "    }\n",
       "</style>\n",
       "<table border=\"1\" class=\"dataframe\">\n",
       "  <thead>\n",
       "    <tr style=\"text-align: right;\">\n",
       "      <th></th>\n",
       "      <th>paragraph</th>\n",
       "      <th>author</th>\n",
       "      <th>len_paragraph</th>\n",
       "      <th>nb_tokens</th>\n",
       "      <th>nb_sentences</th>\n",
       "      <th>nb_tokens_per_sentences</th>\n",
       "      <th>nb_words</th>\n",
       "      <th>nb_unique_words</th>\n",
       "      <th>nb_punct</th>\n",
       "      <th>nb_punct_relative</th>\n",
       "      <th>paragraph_no_names</th>\n",
       "    </tr>\n",
       "  </thead>\n",
       "  <tbody>\n",
       "    <tr>\n",
       "      <td>0</td>\n",
       "      <td>Beaucoup de gens ont envié la douce existence ...</td>\n",
       "      <td>Balzac</td>\n",
       "      <td>1027</td>\n",
       "      <td>192</td>\n",
       "      <td>5</td>\n",
       "      <td>37.400000</td>\n",
       "      <td>172</td>\n",
       "      <td>123</td>\n",
       "      <td>20</td>\n",
       "      <td>0.104167</td>\n",
       "      <td>Beaucoup de gens ont envié la douce existence ...</td>\n",
       "    </tr>\n",
       "    <tr>\n",
       "      <td>1</td>\n",
       "      <td>Un mercredi, de grand matin, vers le milieu du...</td>\n",
       "      <td>Balzac</td>\n",
       "      <td>425</td>\n",
       "      <td>85</td>\n",
       "      <td>2</td>\n",
       "      <td>41.500000</td>\n",
       "      <td>73</td>\n",
       "      <td>63</td>\n",
       "      <td>12</td>\n",
       "      <td>0.141176</td>\n",
       "      <td>Un mercredi, de grand matin, vers le milieu du...</td>\n",
       "    </tr>\n",
       "    <tr>\n",
       "      <td>2</td>\n",
       "      <td>--Ah! c'est toi, Suzanne? dit le chevalier de ...</td>\n",
       "      <td>Balzac</td>\n",
       "      <td>211</td>\n",
       "      <td>41</td>\n",
       "      <td>4</td>\n",
       "      <td>9.250000</td>\n",
       "      <td>35</td>\n",
       "      <td>33</td>\n",
       "      <td>6</td>\n",
       "      <td>0.146341</td>\n",
       "      <td>--Ah! c'est toi, ? dit le  sans discontinuer s...</td>\n",
       "    </tr>\n",
       "    <tr>\n",
       "      <td>3</td>\n",
       "      <td>Cette charmante Suzanne, dont la comique avent...</td>\n",
       "      <td>Balzac</td>\n",
       "      <td>5557</td>\n",
       "      <td>1015</td>\n",
       "      <td>33</td>\n",
       "      <td>29.757576</td>\n",
       "      <td>887</td>\n",
       "      <td>439</td>\n",
       "      <td>128</td>\n",
       "      <td>0.126108</td>\n",
       "      <td>Cette charmante , dont la comique aventure dev...</td>\n",
       "    </tr>\n",
       "    <tr>\n",
       "      <td>4</td>\n",
       "      <td>Suzanne, une de ses favorites, spirituelle, am...</td>\n",
       "      <td>Balzac</td>\n",
       "      <td>563</td>\n",
       "      <td>107</td>\n",
       "      <td>2</td>\n",
       "      <td>52.500000</td>\n",
       "      <td>91</td>\n",
       "      <td>77</td>\n",
       "      <td>16</td>\n",
       "      <td>0.149533</td>\n",
       "      <td>Suzanne, une de ses favorites, spirituelle, am...</td>\n",
       "    </tr>\n",
       "  </tbody>\n",
       "</table>\n",
       "</div>"
      ],
      "text/plain": [
       "                                           paragraph  author  len_paragraph  \\\n",
       "0  Beaucoup de gens ont envié la douce existence ...  Balzac           1027   \n",
       "1  Un mercredi, de grand matin, vers le milieu du...  Balzac            425   \n",
       "2  --Ah! c'est toi, Suzanne? dit le chevalier de ...  Balzac            211   \n",
       "3  Cette charmante Suzanne, dont la comique avent...  Balzac           5557   \n",
       "4  Suzanne, une de ses favorites, spirituelle, am...  Balzac            563   \n",
       "\n",
       "   nb_tokens  nb_sentences  nb_tokens_per_sentences  nb_words  \\\n",
       "0        192             5                37.400000       172   \n",
       "1         85             2                41.500000        73   \n",
       "2         41             4                 9.250000        35   \n",
       "3       1015            33                29.757576       887   \n",
       "4        107             2                52.500000        91   \n",
       "\n",
       "   nb_unique_words  nb_punct  nb_punct_relative  \\\n",
       "0              123        20           0.104167   \n",
       "1               63        12           0.141176   \n",
       "2               33         6           0.146341   \n",
       "3              439       128           0.126108   \n",
       "4               77        16           0.149533   \n",
       "\n",
       "                                  paragraph_no_names  \n",
       "0  Beaucoup de gens ont envié la douce existence ...  \n",
       "1  Un mercredi, de grand matin, vers le milieu du...  \n",
       "2  --Ah! c'est toi, ? dit le  sans discontinuer s...  \n",
       "3  Cette charmante , dont la comique aventure dev...  \n",
       "4  Suzanne, une de ses favorites, spirituelle, am...  "
      ]
     },
     "execution_count": 6,
     "metadata": {},
     "output_type": "execute_result"
    }
   ],
   "source": [
    "df.head()"
   ]
  },
  {
   "cell_type": "code",
   "execution_count": 4,
   "metadata": {},
   "outputs": [
    {
     "data": {
      "text/plain": [
       "(47202, 2)"
      ]
     },
     "execution_count": 4,
     "metadata": {},
     "output_type": "execute_result"
    }
   ],
   "source": [
    "df.shape"
   ]
  },
  {
   "cell_type": "markdown",
   "metadata": {},
   "source": [
    "### Distribution of the authors in the database"
   ]
  },
  {
   "cell_type": "code",
   "execution_count": 7,
   "metadata": {},
   "outputs": [
    {
     "data": {
      "text/plain": [
       "<BarContainer object of 10 artists>"
      ]
     },
     "execution_count": 7,
     "metadata": {},
     "output_type": "execute_result"
    },
    {
     "data": {
      "image/png": "[encoded data removed]",
      "text/plain": [
       "<Figure size 1008x432 with 1 Axes>"
      ]
     },
     "metadata": {
      "needs_background": "light"
     },
     "output_type": "display_data"
    }
   ],
   "source": [
    "count = Counter(df['author']).most_common()\n",
    "\n",
    "x = [t[0] for t in count]\n",
    "y = [t[1] for t in count]\n",
    "\n",
    "plt.figure(figsize=(14, 6))\n",
    "plt.bar(x=x, height=y)"
   ]
  },
  {
   "cell_type": "markdown",
   "metadata": {},
   "source": [
    "### Length of paragraphs"
   ]
  },
  {
   "cell_type": "markdown",
   "metadata": {},
   "source": [
    "Statistics on the length of paragraphs"
   ]
  },
  {
   "cell_type": "code",
   "execution_count": 6,
   "metadata": {},
   "outputs": [
    {
     "data": {
      "text/plain": [
       "count    47202.000000\n",
       "mean       366.902737\n",
       "std        469.902017\n",
       "min        101.000000\n",
       "25%        151.000000\n",
       "50%        232.000000\n",
       "75%        408.000000\n",
       "max      16283.000000\n",
       "Name: paragraph, dtype: float64"
      ]
     },
     "execution_count": 6,
     "metadata": {},
     "output_type": "execute_result"
    }
   ],
   "source": [
    "df['paragraph'].apply(len).describe()"
   ]
  },
  {
   "cell_type": "markdown",
   "metadata": {},
   "source": [
    "### New features\n",
    "- length of paragraph\n",
    "- number of tokens\n",
    "- number of sentences\n",
    "- average number of tokens per sentence\n",
    "- number of words\n",
    "- number of different words\n",
    "- number of punctuation tokens\n",
    "- relative number of punctuation tokens among all tokens"
   ]
  },
  {
   "cell_type": "code",
   "execution_count": 7,
   "metadata": {},
   "outputs": [],
   "source": [
    "punc = string.punctuation\n",
    "\n",
    "def get_features_par(paragraph):\n",
    "    tokens = word_tokenize(paragraph)\n",
    "    sentences = re.split('[.?!]', paragraph)\n",
    "    sentences = [s for s in sentences if s]\n",
    "    sentences = [s.strip() for s in sentences]\n",
    "    sentences_tokens = [word_tokenize(x) for x in sentences]\n",
    "    words = [x for x in tokens if x not in list(punc)]\n",
    "    words = [x.lower() for x in words]\n",
    "    \n",
    "    len_paragraph = len(paragraph)\n",
    "    nb_tokens = len(tokens)\n",
    "    nb_sentences = len(sentences)\n",
    "    nb_words = len(words)\n",
    "    nb_punct = sum([tokens.count(i) for i in punc])\n",
    "    nb_punct_relative = nb_punct/nb_tokens\n",
    "    nb_unique_words = len(set(words))\n",
    "    nb_tokens_per_sentences = np.mean([len(x) for x in sentences_tokens])\n",
    "    \n",
    "    list_features = [len_paragraph, nb_tokens, nb_sentences, nb_tokens_per_sentences, nb_words, nb_unique_words,\n",
    "                     nb_punct, nb_punct_relative]                    \n",
    "    \n",
    "    return list_features"
   ]
  },
  {
   "cell_type": "code",
   "execution_count": 8,
   "metadata": {},
   "outputs": [],
   "source": [
    "def get_features_corpus(corpus):\n",
    "    dict_features = {}\n",
    "    \n",
    "    len_paragraph = []\n",
    "    nb_tokens = []\n",
    "    nb_sentences = []\n",
    "    nb_tokens_per_sentences = [] \n",
    "    nb_words = []\n",
    "    nb_unique_words = [] \n",
    "    nb_punct = []\n",
    "    nb_punct_relative = []\n",
    "        \n",
    "    for par in corpus:\n",
    "        features = get_features_par(par)\n",
    "        len_paragraph.append(features[0])\n",
    "        nb_tokens.append(features[1])\n",
    "        nb_sentences.append(features[2])\n",
    "        nb_tokens_per_sentences.append(features[3])\n",
    "        nb_words.append(features[4])\n",
    "        nb_unique_words.append(features[5])\n",
    "        nb_punct.append(features[6])\n",
    "        nb_punct_relative.append(features[7])\n",
    "        \n",
    "    dict_features['len_paragraph'] = len_paragraph\n",
    "    dict_features['nb_tokens'] = nb_tokens\n",
    "    dict_features['nb_sentences'] = nb_sentences\n",
    "    dict_features['nb_tokens_per_sentences'] = nb_tokens_per_sentences\n",
    "    dict_features['nb_words'] = nb_words\n",
    "    dict_features['nb_unique_words'] = nb_unique_words\n",
    "    dict_features['nb_punct'] = nb_punct\n",
    "    dict_features['nb_punct_relative'] = nb_punct_relative\n",
    "    \n",
    "    return dict_features"
   ]
  },
  {
   "cell_type": "code",
   "execution_count": 9,
   "metadata": {},
   "outputs": [],
   "source": [
    "new_features = get_features_corpus(df['paragraph'])"
   ]
  },
  {
   "cell_type": "code",
   "execution_count": 10,
   "metadata": {},
   "outputs": [],
   "source": [
    "df_features = pd.DataFrame.from_dict(new_features)"
   ]
  },
  {
   "cell_type": "code",
   "execution_count": 11,
   "metadata": {},
   "outputs": [],
   "source": [
    "df = pd.DataFrame.join(df, df_features)"
   ]
  },
  {
   "cell_type": "code",
   "execution_count": 14,
   "metadata": {},
   "outputs": [
    {
     "data": {
      "text/plain": [
       "(47202, 10)"
      ]
     },
     "execution_count": 14,
     "metadata": {},
     "output_type": "execute_result"
    }
   ],
   "source": [
    "df.shape"
   ]
  },
  {
   "cell_type": "code",
   "execution_count": 12,
   "metadata": {},
   "outputs": [
    {
     "data": {
      "text/html": [
       "<div>\n",
       "<style scoped>\n",
       "    .dataframe tbody tr th:only-of-type {\n",
       "        vertical-align: middle;\n",
       "    }\n",
       "\n",
       "    .dataframe tbody tr th {\n",
       "        vertical-align: top;\n",
       "    }\n",
       "\n",
       "    .dataframe thead th {\n",
       "        text-align: right;\n",
       "    }\n",
       "</style>\n",
       "<table border=\"1\" class=\"dataframe\">\n",
       "  <thead>\n",
       "    <tr style=\"text-align: right;\">\n",
       "      <th></th>\n",
       "      <th>paragraph</th>\n",
       "      <th>author</th>\n",
       "      <th>len_paragraph</th>\n",
       "      <th>nb_tokens</th>\n",
       "      <th>nb_sentences</th>\n",
       "      <th>nb_tokens_per_sentences</th>\n",
       "      <th>nb_words</th>\n",
       "      <th>nb_unique_words</th>\n",
       "      <th>nb_punct</th>\n",
       "      <th>nb_punct_relative</th>\n",
       "    </tr>\n",
       "  </thead>\n",
       "  <tbody>\n",
       "    <tr>\n",
       "      <td>0</td>\n",
       "      <td>Beaucoup de gens ont envié la douce existence ...</td>\n",
       "      <td>Balzac</td>\n",
       "      <td>1027</td>\n",
       "      <td>192</td>\n",
       "      <td>5</td>\n",
       "      <td>37.400000</td>\n",
       "      <td>172</td>\n",
       "      <td>123</td>\n",
       "      <td>20</td>\n",
       "      <td>0.104167</td>\n",
       "    </tr>\n",
       "    <tr>\n",
       "      <td>1</td>\n",
       "      <td>Un mercredi, de grand matin, vers le milieu du...</td>\n",
       "      <td>Balzac</td>\n",
       "      <td>425</td>\n",
       "      <td>85</td>\n",
       "      <td>2</td>\n",
       "      <td>41.500000</td>\n",
       "      <td>73</td>\n",
       "      <td>63</td>\n",
       "      <td>12</td>\n",
       "      <td>0.141176</td>\n",
       "    </tr>\n",
       "    <tr>\n",
       "      <td>2</td>\n",
       "      <td>--Ah! c'est toi, Suzanne? dit le chevalier de ...</td>\n",
       "      <td>Balzac</td>\n",
       "      <td>211</td>\n",
       "      <td>41</td>\n",
       "      <td>4</td>\n",
       "      <td>9.250000</td>\n",
       "      <td>35</td>\n",
       "      <td>33</td>\n",
       "      <td>6</td>\n",
       "      <td>0.146341</td>\n",
       "    </tr>\n",
       "    <tr>\n",
       "      <td>3</td>\n",
       "      <td>Cette charmante Suzanne, dont la comique avent...</td>\n",
       "      <td>Balzac</td>\n",
       "      <td>5557</td>\n",
       "      <td>1015</td>\n",
       "      <td>33</td>\n",
       "      <td>29.757576</td>\n",
       "      <td>887</td>\n",
       "      <td>439</td>\n",
       "      <td>128</td>\n",
       "      <td>0.126108</td>\n",
       "    </tr>\n",
       "    <tr>\n",
       "      <td>4</td>\n",
       "      <td>Suzanne, une de ses favorites, spirituelle, am...</td>\n",
       "      <td>Balzac</td>\n",
       "      <td>563</td>\n",
       "      <td>107</td>\n",
       "      <td>2</td>\n",
       "      <td>52.500000</td>\n",
       "      <td>91</td>\n",
       "      <td>77</td>\n",
       "      <td>16</td>\n",
       "      <td>0.149533</td>\n",
       "    </tr>\n",
       "  </tbody>\n",
       "</table>\n",
       "</div>"
      ],
      "text/plain": [
       "                                           paragraph  author  len_paragraph  \\\n",
       "0  Beaucoup de gens ont envié la douce existence ...  Balzac           1027   \n",
       "1  Un mercredi, de grand matin, vers le milieu du...  Balzac            425   \n",
       "2  --Ah! c'est toi, Suzanne? dit le chevalier de ...  Balzac            211   \n",
       "3  Cette charmante Suzanne, dont la comique avent...  Balzac           5557   \n",
       "4  Suzanne, une de ses favorites, spirituelle, am...  Balzac            563   \n",
       "\n",
       "   nb_tokens  nb_sentences  nb_tokens_per_sentences  nb_words  \\\n",
       "0        192             5                37.400000       172   \n",
       "1         85             2                41.500000        73   \n",
       "2         41             4                 9.250000        35   \n",
       "3       1015            33                29.757576       887   \n",
       "4        107             2                52.500000        91   \n",
       "\n",
       "   nb_unique_words  nb_punct  nb_punct_relative  \n",
       "0              123        20           0.104167  \n",
       "1               63        12           0.141176  \n",
       "2               33         6           0.146341  \n",
       "3              439       128           0.126108  \n",
       "4               77        16           0.149533  "
      ]
     },
     "execution_count": 12,
     "metadata": {},
     "output_type": "execute_result"
    }
   ],
   "source": [
    "df.head()"
   ]
  },
  {
   "cell_type": "code",
   "execution_count": 15,
   "metadata": {},
   "outputs": [
    {
     "data": {
      "text/html": [
       "<div>\n",
       "<style scoped>\n",
       "    .dataframe tbody tr th:only-of-type {\n",
       "        vertical-align: middle;\n",
       "    }\n",
       "\n",
       "    .dataframe tbody tr th {\n",
       "        vertical-align: top;\n",
       "    }\n",
       "\n",
       "    .dataframe thead th {\n",
       "        text-align: right;\n",
       "    }\n",
       "</style>\n",
       "<table border=\"1\" class=\"dataframe\">\n",
       "  <thead>\n",
       "    <tr style=\"text-align: right;\">\n",
       "      <th></th>\n",
       "      <th>len_paragraph</th>\n",
       "      <th>nb_tokens</th>\n",
       "      <th>nb_sentences</th>\n",
       "      <th>nb_tokens_per_sentences</th>\n",
       "      <th>nb_words</th>\n",
       "      <th>nb_unique_words</th>\n",
       "      <th>nb_punct</th>\n",
       "      <th>nb_punct_relative</th>\n",
       "    </tr>\n",
       "    <tr>\n",
       "      <th>author</th>\n",
       "      <th></th>\n",
       "      <th></th>\n",
       "      <th></th>\n",
       "      <th></th>\n",
       "      <th></th>\n",
       "      <th></th>\n",
       "      <th></th>\n",
       "      <th></th>\n",
       "    </tr>\n",
       "  </thead>\n",
       "  <tbody>\n",
       "    <tr>\n",
       "      <td>Balzac</td>\n",
       "      <td>741.020786</td>\n",
       "      <td>143.012666</td>\n",
       "      <td>6.155895</td>\n",
       "      <td>22.450485</td>\n",
       "      <td>124.834037</td>\n",
       "      <td>81.368301</td>\n",
       "      <td>18.178629</td>\n",
       "      <td>0.136067</td>\n",
       "    </tr>\n",
       "    <tr>\n",
       "      <td>Daudet</td>\n",
       "      <td>401.366647</td>\n",
       "      <td>82.690716</td>\n",
       "      <td>4.943229</td>\n",
       "      <td>18.964801</td>\n",
       "      <td>71.131875</td>\n",
       "      <td>55.148433</td>\n",
       "      <td>11.558841</td>\n",
       "      <td>0.141084</td>\n",
       "    </tr>\n",
       "    <tr>\n",
       "      <td>Dumas</td>\n",
       "      <td>249.582628</td>\n",
       "      <td>50.105490</td>\n",
       "      <td>2.174217</td>\n",
       "      <td>26.594832</td>\n",
       "      <td>43.255504</td>\n",
       "      <td>35.705334</td>\n",
       "      <td>6.849986</td>\n",
       "      <td>0.139787</td>\n",
       "    </tr>\n",
       "    <tr>\n",
       "      <td>Flaubert</td>\n",
       "      <td>369.463817</td>\n",
       "      <td>72.430008</td>\n",
       "      <td>3.575300</td>\n",
       "      <td>22.256513</td>\n",
       "      <td>61.470243</td>\n",
       "      <td>49.194747</td>\n",
       "      <td>10.959765</td>\n",
       "      <td>0.154951</td>\n",
       "    </tr>\n",
       "    <tr>\n",
       "      <td>Hugo</td>\n",
       "      <td>431.218084</td>\n",
       "      <td>84.964336</td>\n",
       "      <td>4.644469</td>\n",
       "      <td>21.879684</td>\n",
       "      <td>73.039293</td>\n",
       "      <td>53.214613</td>\n",
       "      <td>11.925043</td>\n",
       "      <td>0.137919</td>\n",
       "    </tr>\n",
       "    <tr>\n",
       "      <td>Maupassant</td>\n",
       "      <td>251.812698</td>\n",
       "      <td>50.152830</td>\n",
       "      <td>2.628555</td>\n",
       "      <td>23.090483</td>\n",
       "      <td>43.019247</td>\n",
       "      <td>35.969836</td>\n",
       "      <td>7.133582</td>\n",
       "      <td>0.142980</td>\n",
       "    </tr>\n",
       "    <tr>\n",
       "      <td>Stendhal</td>\n",
       "      <td>383.397246</td>\n",
       "      <td>79.320013</td>\n",
       "      <td>3.463734</td>\n",
       "      <td>24.395744</td>\n",
       "      <td>70.238583</td>\n",
       "      <td>52.584956</td>\n",
       "      <td>9.081430</td>\n",
       "      <td>0.119802</td>\n",
       "    </tr>\n",
       "    <tr>\n",
       "      <td>Verne</td>\n",
       "      <td>324.054541</td>\n",
       "      <td>61.289044</td>\n",
       "      <td>3.062230</td>\n",
       "      <td>21.767564</td>\n",
       "      <td>52.692215</td>\n",
       "      <td>43.596828</td>\n",
       "      <td>8.596828</td>\n",
       "      <td>0.143414</td>\n",
       "    </tr>\n",
       "    <tr>\n",
       "      <td>Vigny</td>\n",
       "      <td>395.464781</td>\n",
       "      <td>78.482776</td>\n",
       "      <td>3.097686</td>\n",
       "      <td>28.775896</td>\n",
       "      <td>68.212339</td>\n",
       "      <td>52.040103</td>\n",
       "      <td>10.270437</td>\n",
       "      <td>0.139331</td>\n",
       "    </tr>\n",
       "    <tr>\n",
       "      <td>Zola</td>\n",
       "      <td>531.512857</td>\n",
       "      <td>105.733214</td>\n",
       "      <td>5.456071</td>\n",
       "      <td>18.508428</td>\n",
       "      <td>89.441429</td>\n",
       "      <td>66.306429</td>\n",
       "      <td>16.291786</td>\n",
       "      <td>0.158997</td>\n",
       "    </tr>\n",
       "  </tbody>\n",
       "</table>\n",
       "</div>"
      ],
      "text/plain": [
       "            len_paragraph   nb_tokens  nb_sentences  nb_tokens_per_sentences  \\\n",
       "author                                                                         \n",
       "Balzac         741.020786  143.012666      6.155895                22.450485   \n",
       "Daudet         401.366647   82.690716      4.943229                18.964801   \n",
       "Dumas          249.582628   50.105490      2.174217                26.594832   \n",
       "Flaubert       369.463817   72.430008      3.575300                22.256513   \n",
       "Hugo           431.218084   84.964336      4.644469                21.879684   \n",
       "Maupassant     251.812698   50.152830      2.628555                23.090483   \n",
       "Stendhal       383.397246   79.320013      3.463734                24.395744   \n",
       "Verne          324.054541   61.289044      3.062230                21.767564   \n",
       "Vigny          395.464781   78.482776      3.097686                28.775896   \n",
       "Zola           531.512857  105.733214      5.456071                18.508428   \n",
       "\n",
       "              nb_words  nb_unique_words   nb_punct  nb_punct_relative  \n",
       "author                                                                 \n",
       "Balzac      124.834037        81.368301  18.178629           0.136067  \n",
       "Daudet       71.131875        55.148433  11.558841           0.141084  \n",
       "Dumas        43.255504        35.705334   6.849986           0.139787  \n",
       "Flaubert     61.470243        49.194747  10.959765           0.154951  \n",
       "Hugo         73.039293        53.214613  11.925043           0.137919  \n",
       "Maupassant   43.019247        35.969836   7.133582           0.142980  \n",
       "Stendhal     70.238583        52.584956   9.081430           0.119802  \n",
       "Verne        52.692215        43.596828   8.596828           0.143414  \n",
       "Vigny        68.212339        52.040103  10.270437           0.139331  \n",
       "Zola         89.441429        66.306429  16.291786           0.158997  "
      ]
     },
     "execution_count": 15,
     "metadata": {},
     "output_type": "execute_result"
    }
   ],
   "source": [
    "df.groupby(['author']).mean()"
   ]
  },
  {
   "cell_type": "markdown",
   "metadata": {},
   "source": [
    "### Name entities recognition"
   ]
  },
  {
   "cell_type": "code",
   "execution_count": 11,
   "metadata": {},
   "outputs": [],
   "source": [
    "import spacy\n",
    "import fr_core_news_md"
   ]
  },
  {
   "cell_type": "code",
   "execution_count": 12,
   "metadata": {},
   "outputs": [],
   "source": [
    "nlp = fr_core_news_md.load()"
   ]
  },
  {
   "cell_type": "code",
   "execution_count": 42,
   "metadata": {},
   "outputs": [
    {
     "name": "stdout",
     "output_type": "stream",
     "text": [
      "Margot 0 6 PER\n",
      "Paris 16 21 LOC\n",
      "Victor Hugo 0 11 PER\n",
      "Honoré de Balzac 15 31 PER\n"
     ]
    }
   ],
   "source": [
    "doc = nlp(\"Margot habite à Paris, capitale de la France, où il pleut tout le temps\")\n",
    "\n",
    "for ent in doc.ents:\n",
    "    print(ent.text, ent.start_char, ent.end_char, ent.label_)\n",
    "    \n",
    "    \n",
    "doc = nlp(\"Victor Hugo et Honoré de Balzac sont des grands écrivains du 19ème siècle\")\n",
    "\n",
    "for ent in doc.ents:\n",
    "    print(ent.text, ent.start_char, ent.end_char, ent.label_)"
   ]
  },
  {
   "cell_type": "markdown",
   "metadata": {},
   "source": [
    "#### Test on a paragraph with multiples named entities."
   ]
  },
  {
   "cell_type": "code",
   "execution_count": 62,
   "metadata": {
    "scrolled": true
   },
   "outputs": [],
   "source": [
    "par = df['paragraph'][3]"
   ]
  },
  {
   "cell_type": "code",
   "execution_count": 63,
   "metadata": {},
   "outputs": [
    {
     "name": "stdout",
     "output_type": "stream",
     "text": [
      "[Suzanne, madame Lardot, Receveur-Général, Valois, madame Lardot, madame Lardot, Grévin, amiral Simeuse, Indes, madame Lardot, Valois, Valois, chevalier de Valois, Longchamps, Chevalerie-Errante, Alençon, Duthé, comte d'Artois, chevalier de Valois, chevalier de Valois, Alençon, Sartines]\n"
     ]
    }
   ],
   "source": [
    "doc = nlp(par)\n",
    "\n",
    "names = []\n",
    "for ent in doc.ents:\n",
    "    names.append(ent)\n",
    "print(names)"
   ]
  },
  {
   "cell_type": "code",
   "execution_count": 64,
   "metadata": {},
   "outputs": [],
   "source": [
    "names = set([str(x) for x in names])"
   ]
  },
  {
   "cell_type": "code",
   "execution_count": 65,
   "metadata": {},
   "outputs": [
    {
     "data": {
      "text/plain": [
       "{'Alençon',\n",
       " 'Chevalerie-Errante',\n",
       " 'Duthé',\n",
       " 'Grévin',\n",
       " 'Indes',\n",
       " 'Longchamps',\n",
       " 'Receveur-Général',\n",
       " 'Sartines',\n",
       " 'Suzanne',\n",
       " 'Valois',\n",
       " 'amiral Simeuse',\n",
       " 'chevalier de Valois',\n",
       " \"comte d'Artois\",\n",
       " 'madame Lardot'}"
      ]
     },
     "execution_count": 65,
     "metadata": {},
     "output_type": "execute_result"
    }
   ],
   "source": [
    "names"
   ]
  },
  {
   "cell_type": "code",
   "execution_count": 68,
   "metadata": {},
   "outputs": [],
   "source": [
    "for name in names:\n",
    "    par = par.replace(name, '')"
   ]
  },
  {
   "cell_type": "code",
   "execution_count": 69,
   "metadata": {
    "scrolled": true
   },
   "outputs": [
    {
     "data": {
      "text/plain": [
       "\"Cette charmante , dont la comique aventure devait exercer une si grande influence sur la destinée des principaux personnages de cette histoire, était une ouvrière de . Un mot sur la topographie de la maison. Les ateliers occupaient tout le rez-de-chaussée. La petite cour servait à étendre sur des cordes en crin les mouchoirs brodés, les collerettes, les canezous, les manchettes, les chemises à jabot, les cravates, les dentelles, les robes brodées, tout le linge fin des meilleures maisons de la ville. Le chevalier prétendait savoir, par le nombre de canezous de la femme du , le menu de ses intrigues; car il se trouvait des chemises à jabot et des cravates en corrélation avec les canezous et les collerettes. Quoique pouvant tout deviner par cette espèce de tenue en partie double des rendez-vous de la ville, le chevalier ne commit jamais une indiscrétion, il ne dit jamais une épigramme susceptible de lui faire fermer une maison (et il avait de l'esprit!) Aussi prendrez-vous monsieur de  pour un homme d'une tenue supérieure, et dont les talents, comme ceux de beaucoup d'autres, se sont perdus dans un cercle étroit. Seulement, car il était homme enfin, le chevalier se permettait certaines œillades incisives qui faisaient trembler les femmes; néanmoins toutes l'aimèrent après avoir reconnu combien était profonde sa discrétion, combien il avait de sympathie pour les jolies faiblesses. La première ouvrière, le factotum de , vieille fille de quarante-cinq ans, laide à faire peur, demeurait porte à porte avec le chevalier. Au-dessus d'eux, il n'y avait plus que des mansardes où se séchait le linge en hiver. Chaque appartement se composait, comme celui du chevalier, de deux chambres éclairées, l'une sur la rue, l'autre sur la cour. Au-dessous du chevalier, demeurait un vieux paralytique, le grand-père de , un ancien corsaire nommé , qui avait servi sous l' dans les , et qui était sourd. Quant à , qui occupait l'autre logement du premier étage, elle avait un si grand faible pour les gens de condition, qu'elle pouvait passer pour aveugle à l'endroit du chevalier. Pour elle, monsieur de  était un monarque absolu qui faisait tout bien. Une de ses ouvrières aurait-elle été coupable d'un bonheur attribué au chevalier, elle eût dit:--_Il est si aimable!_ Ainsi, quoique cette maison fût de verre, comme toutes les maisons de province, relativement à monsieur de  elle était discrète comme une caverne de voleurs. Confident né des petites intrigues de l'atelier, le chevalier ne passait jamais devant la porte, qui la plupart du temps restait ouverte, sans donner quelque chose à ses petites chattes: du chocolat, des bonbons, des rubans, des dentelles, une croix d'or, toutes sortes de mièvreries dont raffolent les grisettes. Aussi le bon chevalier était-il adoré de ces petites filles. Les femmes ont un instinct qui leur fait deviner les hommes qui les aiment par cela seulement qu'elles portent une jupe, qui sont heureux d'être près d'elles, et qui ne pensent jamais à demander sottement l'intérêt de leur galanterie. Les femmes ont sous ce rapport le flair du chien, qui dans une compagnie va droit à l'homme pour qui les bêtes sont sacrées. Le pauvre  conservait, de sa première vie, le besoin de protection galante qui distinguait autrefois le grand seigneur. Toujours fidèle au système de la petite maison, il aimait à enrichir les femmes, les seuls êtres qui sachent bien recevoir parce qu'ils peuvent toujours rendre. N'est-il pas extraordinaire que, par un temps où les écoliers cherchent, au sortir du collége, à dénicher un symbole ou à trier des mythes, personne n'ait encore expliqué les filles du dix-huitième siècle? N'était-ce pas le tournoi du quinzième siècle? En 1550, les chevaliers se battaient pour les dames; en 1750, ils montraient leurs maîtresses à ; aujourd'hui, ils font courir leurs chevaux; à toutes les époques, le gentilhomme a tâché de se créer une façon de vivre qui ne fût qu'à lui. Les souliers à la poulaine du quatorzième siècle étaient les talons rouges du dix-huitième, et le luxe des maîtresses était en 1750 une ostentation semblable à celle des sentiments de la . Mais le chevalier ne pouvait plus se ruiner pour une maîtresse! Au lieu de bonbons enveloppés de billets de caisse, il offrait galamment un sac de pures croquignoles. Disons-le à la gloire d', ces croquignoles étaient acceptées plus joyeusement que la  ne reçut jadis une toilette en vermeil ou quelque équipage du . Toutes ces grisettes avaient compris la majesté déchue du , et lui gardaient un profond secret sur leurs familiarités intérieures. Les questionnait-on en ville dans quelques maisons sur le , elles parlaient gravement du gentilhomme, elles le vieillissaient; il devenait un respectable monsieur de qui la vie était une fleur de sainteté; mais, au logis, elles lui auraient monté sur les épaules comme des perroquets. Il aimait à savoir les secrets que découvrent les blanchisseuses au sein des ménages, elles venaient donc le matin lui raconter les cancans d'; il les appelait ses gazettes en cotillon, ses feuilletons vivants; jamais monsieur de  n'eut d'espions si intelligents, ni moins chers, et qui eussent conservé autant d'honneur en déployant autant de friponnerie dans l'esprit. Notez que, pendant son déjeuner, le chevalier s'amusait comme un bienheureux.\""
      ]
     },
     "execution_count": 69,
     "metadata": {},
     "output_type": "execute_result"
    }
   ],
   "source": [
    "par"
   ]
  },
  {
   "cell_type": "markdown",
   "metadata": {},
   "source": [
    "#### Fonction that remove the named entities from a paragraph."
   ]
  },
  {
   "cell_type": "code",
   "execution_count": 44,
   "metadata": {},
   "outputs": [],
   "source": [
    "def remove_named_entities(paragraph):\n",
    "    nlp = fr_core_news_md.load()\n",
    "    doc = nlp(paragraph)\n",
    "    \n",
    "    names = []\n",
    "    for ent in doc.ents:\n",
    "        # list of all the named entities recognized in the paragraph\n",
    "        names.append(ent)\n",
    "    # keep unique elements and convert to string    \n",
    "    names = set([str(x) for x in names])\n",
    "    \n",
    "    # remove named entities from the paragraph\n",
    "    paragraph_no_names = paragraph\n",
    "    for name in names:\n",
    "        paragraph_no_names = paragraph_no_names.replace(name, '')\n",
    "        \n",
    "    return paragraph_no_names"
   ]
  },
  {
   "cell_type": "code",
   "execution_count": 71,
   "metadata": {
    "scrolled": true
   },
   "outputs": [
    {
     "data": {
      "text/plain": [
       "\"Cette charmante , dont la comique aventure devait exercer une si grande influence sur la destinée des principaux personnages de cette histoire, était une ouvrière de . Un mot sur la topographie de la maison. Les ateliers occupaient tout le rez-de-chaussée. La petite cour servait à étendre sur des cordes en crin les mouchoirs brodés, les collerettes, les canezous, les manchettes, les chemises à jabot, les cravates, les dentelles, les robes brodées, tout le linge fin des meilleures maisons de la ville. Le chevalier prétendait savoir, par le nombre de canezous de la femme du , le menu de ses intrigues; car il se trouvait des chemises à jabot et des cravates en corrélation avec les canezous et les collerettes. Quoique pouvant tout deviner par cette espèce de tenue en partie double des rendez-vous de la ville, le chevalier ne commit jamais une indiscrétion, il ne dit jamais une épigramme susceptible de lui faire fermer une maison (et il avait de l'esprit!) Aussi prendrez-vous monsieur de  pour un homme d'une tenue supérieure, et dont les talents, comme ceux de beaucoup d'autres, se sont perdus dans un cercle étroit. Seulement, car il était homme enfin, le chevalier se permettait certaines œillades incisives qui faisaient trembler les femmes; néanmoins toutes l'aimèrent après avoir reconnu combien était profonde sa discrétion, combien il avait de sympathie pour les jolies faiblesses. La première ouvrière, le factotum de , vieille fille de quarante-cinq ans, laide à faire peur, demeurait porte à porte avec le chevalier. Au-dessus d'eux, il n'y avait plus que des mansardes où se séchait le linge en hiver. Chaque appartement se composait, comme celui du chevalier, de deux chambres éclairées, l'une sur la rue, l'autre sur la cour. Au-dessous du chevalier, demeurait un vieux paralytique, le grand-père de , un ancien corsaire nommé , qui avait servi sous l' dans les , et qui était sourd. Quant à , qui occupait l'autre logement du premier étage, elle avait un si grand faible pour les gens de condition, qu'elle pouvait passer pour aveugle à l'endroit du chevalier. Pour elle, monsieur de  était un monarque absolu qui faisait tout bien. Une de ses ouvrières aurait-elle été coupable d'un bonheur attribué au chevalier, elle eût dit:--_Il est si aimable!_ Ainsi, quoique cette maison fût de verre, comme toutes les maisons de province, relativement à monsieur de  elle était discrète comme une caverne de voleurs. Confident né des petites intrigues de l'atelier, le chevalier ne passait jamais devant la porte, qui la plupart du temps restait ouverte, sans donner quelque chose à ses petites chattes: du chocolat, des bonbons, des rubans, des dentelles, une croix d'or, toutes sortes de mièvreries dont raffolent les grisettes. Aussi le bon chevalier était-il adoré de ces petites filles. Les femmes ont un instinct qui leur fait deviner les hommes qui les aiment par cela seulement qu'elles portent une jupe, qui sont heureux d'être près d'elles, et qui ne pensent jamais à demander sottement l'intérêt de leur galanterie. Les femmes ont sous ce rapport le flair du chien, qui dans une compagnie va droit à l'homme pour qui les bêtes sont sacrées. Le pauvre  conservait, de sa première vie, le besoin de protection galante qui distinguait autrefois le grand seigneur. Toujours fidèle au système de la petite maison, il aimait à enrichir les femmes, les seuls êtres qui sachent bien recevoir parce qu'ils peuvent toujours rendre. N'est-il pas extraordinaire que, par un temps où les écoliers cherchent, au sortir du collége, à dénicher un symbole ou à trier des mythes, personne n'ait encore expliqué les filles du dix-huitième siècle? N'était-ce pas le tournoi du quinzième siècle? En 1550, les chevaliers se battaient pour les dames; en 1750, ils montraient leurs maîtresses à ; aujourd'hui, ils font courir leurs chevaux; à toutes les époques, le gentilhomme a tâché de se créer une façon de vivre qui ne fût qu'à lui. Les souliers à la poulaine du quatorzième siècle étaient les talons rouges du dix-huitième, et le luxe des maîtresses était en 1750 une ostentation semblable à celle des sentiments de la . Mais le chevalier ne pouvait plus se ruiner pour une maîtresse! Au lieu de bonbons enveloppés de billets de caisse, il offrait galamment un sac de pures croquignoles. Disons-le à la gloire d', ces croquignoles étaient acceptées plus joyeusement que la  ne reçut jadis une toilette en vermeil ou quelque équipage du . Toutes ces grisettes avaient compris la majesté déchue du , et lui gardaient un profond secret sur leurs familiarités intérieures. Les questionnait-on en ville dans quelques maisons sur le , elles parlaient gravement du gentilhomme, elles le vieillissaient; il devenait un respectable monsieur de qui la vie était une fleur de sainteté; mais, au logis, elles lui auraient monté sur les épaules comme des perroquets. Il aimait à savoir les secrets que découvrent les blanchisseuses au sein des ménages, elles venaient donc le matin lui raconter les cancans d'; il les appelait ses gazettes en cotillon, ses feuilletons vivants; jamais monsieur de  n'eut d'espions si intelligents, ni moins chers, et qui eussent conservé autant d'honneur en déployant autant de  dans l'esprit. Notez que, pendant son déjeuner, le chevalier s'amusait comme un bienheureux.\""
      ]
     },
     "execution_count": 71,
     "metadata": {},
     "output_type": "execute_result"
    }
   ],
   "source": [
    "remove_named_entities(par)"
   ]
  },
  {
   "cell_type": "markdown",
   "metadata": {},
   "source": [
    "#### Create new column with tha paragraphs without the named entities."
   ]
  },
  {
   "cell_type": "code",
   "execution_count": 76,
   "metadata": {},
   "outputs": [],
   "source": [
    "paragraph_no_names = []\n",
    "for i, par in enumerate(df['paragraph']):\n",
    "    par_no_names = remove_named_entities(par)\n",
    "    paragraph_no_names.append(par_no_names)\n",
    "    if i%1000 == 0:\n",
    "        print(i)\n",
    "\n",
    "df['paragraph_no_names'] = paragraph_no_names"
   ]
  },
  {
   "cell_type": "markdown",
   "metadata": {},
   "source": [
    "#### Export new train file with all the features"
   ]
  },
  {
   "cell_type": "code",
   "execution_count": 82,
   "metadata": {},
   "outputs": [],
   "source": [
    "# save complete dataframe to csv\n",
    "df.to_csv('../data/corpus_train_complete.csv')"
   ]
  },
  {
   "cell_type": "markdown",
   "metadata": {},
   "source": [
    "#### Check problems with NER"
   ]
  },
  {
   "cell_type": "code",
   "execution_count": 40,
   "metadata": {},
   "outputs": [
    {
     "name": "stdout",
     "output_type": "stream",
     "text": [
      "Suzanne, une de ses favorites, spirituelle, ambitieuse, avait en elle l'étoffe d'une Sophie Arnould, elle était d'ailleurs belle comme la plus belle courtisane que jamais Titien ait conviée à poser sur un velours noir pour aider son pinceau à faire une Vénus; mais sa figure, quoique fine dans le tour des yeux et du front, péchait en bas par des contours communs. C'était la beauté normande, fraîche, éclatante, rebondie, la chair de Rubens qu'il faudrait marier avec les muscles de l'Hercule-Farnèse, et non la Vénus de Médicis, cette gracieuse femme d'Apollon.\n"
     ]
    },
    {
     "data": {
      "text/plain": [
       "\"Suzanne, une de ses favorites, spirituelle, ambitieuse, avait en elle l'étoffe d'une , elle était d'ailleurs belle comme la plus belle courtisane que jamais  ait conviée à poser sur un velours noir pour aider son pinceau à faire une ; mais sa figure, quoique fine dans le tour des yeux et du front, péchait en bas par des contours communs. C'était la beauté normande, fraîche, éclatante, rebondie, la chair de  qu'il faudrait marier avec les muscles de l'-, et non la  de , cette gracieuse femme d'.\""
      ]
     },
     "execution_count": 40,
     "metadata": {},
     "output_type": "execute_result"
    }
   ],
   "source": [
    "# voir pb pour ligne 4 \"Suzanne\" encore present apres NER?\n",
    "print(df['paragraph'][4])\n",
    "remove_named_entities(df['paragraph'][4])"
   ]
  },
  {
   "cell_type": "code",
   "execution_count": 29,
   "metadata": {
    "scrolled": true
   },
   "outputs": [
    {
     "name": "stdout",
     "output_type": "stream",
     "text": [
      "--Suzanne, que diable veux-tu que je fasse? il est si extraordinaire.... Moi qui croyais... Le fait est que... mais non, non, cela ne se peut pas...\n"
     ]
    },
    {
     "data": {
      "text/plain": [
       "'--Suzanne, que diable veux-tu que je fasse? il est si extraordinaire.... Moi qui croyais... Le fait est que... mais non, non, cela ne se peut pas...'"
      ]
     },
     "execution_count": 29,
     "metadata": {},
     "output_type": "execute_result"
    }
   ],
   "source": [
    "print(df['paragraph'][30])\n",
    "remove_named_entities(df['paragraph'][30])"
   ]
  },
  {
   "cell_type": "code",
   "execution_count": 42,
   "metadata": {},
   "outputs": [
    {
     "name": "stdout",
     "output_type": "stream",
     "text": [
      "Sophie Arnould 85 99 PER\n",
      "Titien 171 177 PER\n",
      "Vénus 253 258 LOC\n",
      "Rubens 435 441 PER\n",
      "Hercule 486 493 LOC\n",
      "Farnèse 494 501 PER\n",
      "Vénus 513 518 LOC\n",
      "Médicis 522 529 PER\n",
      "Apollon 555 562 PER\n"
     ]
    }
   ],
   "source": [
    "doc = nlp(df['paragraph'][4])\n",
    "\n",
    "for ent in doc.ents:\n",
    "    print(ent.text, ent.start_char, ent.end_char, ent.label_)"
   ]
  },
  {
   "cell_type": "code",
   "execution_count": 43,
   "metadata": {},
   "outputs": [],
   "source": [
    "doc = nlp(df['paragraph'][30])\n",
    "\n",
    "for ent in doc.ents:\n",
    "    print(ent.text, ent.start_char, ent.end_char, ent.label_)"
   ]
  }
 ],
 "metadata": {
  "kernelspec": {
   "display_name": "Python 3",
   "language": "python",
   "name": "python3"
  },
  "language_info": {
   "codemirror_mode": {
    "name": "ipython",
    "version": 3
   },
   "file_extension": ".py",
   "mimetype": "text/x-python",
   "name": "python",
   "nbconvert_exporter": "python",
   "pygments_lexer": "ipython3",
   "version": "3.7.4"
  }
 },
 "nbformat": 4,
 "nbformat_minor": 2
}
